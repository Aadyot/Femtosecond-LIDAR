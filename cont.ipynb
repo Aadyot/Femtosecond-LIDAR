{
 "cells": [
  {
   "cell_type": "code",
   "execution_count": 1,
   "metadata": {},
   "outputs": [],
   "source": [
    "import numpy as np\n",
    "from TimeTagger import *\n",
    "import matplotlib.pyplot as plt\n",
    "from IPython.display import clear_output\n",
    "import serial\n",
    "import time\n",
    "import datetime"
   ]
  },
  {
   "cell_type": "code",
   "execution_count": 2,
   "metadata": {},
   "outputs": [
    {
     "name": "stdout",
     "output_type": "stream",
     "text": [
      "b'Demonstration of AccelStepper Library\\r\\n'\n",
      "b\"Send 'C' for printing the commands.\\r\\n\"\n",
      "b'Default speed: 400 steps/s, default acceleration: 800 steps/s^2.\\r\\n'\n"
     ]
    }
   ],
   "source": [
    "# Establish the serial connection\n",
    "ser = serial.Serial('COM8', 9600)  # Replace 'COM3' with your Arduino's port\n",
    "tagger = createTimeTagger()\n",
    "\n",
    "print(ser.readline())\n",
    "print(ser.readline())\n",
    "print(ser.readline())"
   ]
  },
  {
   "cell_type": "code",
   "execution_count": 3,
   "metadata": {},
   "outputs": [],
   "source": [
    "SPAD_CH = 1 # SPAD Channel\n",
    "TRIG_CH = 3 # Trigger Channel\n",
    "\n",
    "bin_width = 34e-12 # in seconds, check once\n",
    "c = 3*1e10 #cm\n",
    "nbins = 6e4  #with the knowledge that delay will be in ns, we can acquire 1us worth of temporal data, ie 1us/ 100ps = 1e4 bins. \n",
    "#1ns = 30cm spatially so even 1e3 bins should do\n",
    "\n",
    "npulse = 100 #100 pulses at every position\n",
    "trigfreq = 10*1e3 # trigger frequency, 10kHz (can't go higher as of now)\n",
    "\n",
    "# resolution = 0.01 #cm\n",
    "# step_size = resolution\n",
    "\n",
    "delay = 0.1 #delay between two acquisitions\n",
    "stepper_speed = 0.1 #cm/sec\n",
    "\n",
    "total_distance = 3 #cm\n",
    "n_acq = int((total_distance/stepper_speed)/delay) \n",
    "\n",
    "#to move 2cm, stepper motor will need 2*6400 steps. at this speed, it will move for 2*64 = 128 seconds lmao\n",
    "# works ig\n",
    "direction = \"left\"\n",
    "t_acq = npulse/trigfreq #historgram acquisition time"
   ]
  },
  {
   "cell_type": "code",
   "execution_count": 4,
   "metadata": {},
   "outputs": [
    {
     "name": "stdout",
     "output_type": "stream",
     "text": [
      "Depth resolution: 1.02 cm\n",
      "Horizontal resolution: 0.010000000000000002 cm\n",
      "number of acq: 300 steps\n",
      "t_acq: 0.01 seconds\n"
     ]
    }
   ],
   "source": [
    "print(f'Depth resolution: {np.round(bin_width*c,2)} cm')\n",
    "print(f'Horizontal resolution: {stepper_speed*delay} cm')\n",
    "\n",
    "# print(f'SPAD_CH: {SPAD_CH}')\n",
    "# print(f'TRIG_CH: {TRIG_CH}')\n",
    "# print(f'bin_width: {bin_width*1e12} picoseconds')\n",
    "# print(f'nbins: {nbins}')\n",
    "# #print(f'npulse: {npulse}')\n",
    "# #print(f'trigfreq: {trigfreq} Hz')\n",
    "# print(f'stepper_speed: {stepper_speed} steps/second')\n",
    "# print(f'dist_in_cm: {total_distance} cm')\n",
    "print(f'number of acq: {n_acq} steps')\n",
    "print(f't_acq: {t_acq} seconds')"
   ]
  },
  {
   "cell_type": "code",
   "execution_count": 5,
   "metadata": {},
   "outputs": [],
   "source": [
    "\n",
    "#Directions are given from the perspective facing HOLMARC sign in FSLab\n",
    "def send_command(command):\n",
    "    ser.write(command.encode())\n",
    "\n",
    "def right_step(dist,speed):\n",
    "    send_command(f'R{dist} {speed}')\n",
    "    print(ser.readline())\n",
    "\n",
    "def left_step(dist,speed):\n",
    "    send_command(f'E{dist} {speed}')\n",
    "    print(ser.readline())\n",
    "\n",
    "def y_step(dist, speed):\n",
    "    dist*=6400\n",
    "    speed*=6400\n",
    "    if direction.lower() == \"left\":\n",
    "        left_step(dist,speed)\n",
    "    elif direction.lower() == \"right\":\n",
    "        right_step(dist,speed)\n",
    "    else:\n",
    "        exit()\n",
    "\n",
    "\n",
    "def home_set():\n",
    "    send_command('X')\n",
    "    print(ser.readline())\n",
    "\n",
    "\n",
    "def down_step(dist,speed):\n",
    "    send_command(f'D{dist} {speed}')\n",
    "    print(ser.readline())\n",
    "\n",
    "\n",
    "def up_step(dist,speed):\n",
    "    send_command(f'U{dist} {speed}')\n",
    "    print(ser.readline())\n",
    "\n",
    "\n",
    "def home_step():\n",
    "    send_command('H')  \n",
    "    print(ser.readline())\n",
    "    print(ser.readline())\n",
    "    print(ser.readline())\n",
    "\n",
    "def getlocation():\n",
    "    send_command('L')\n",
    "    t =  int(ser.readline().split()[-1]), int(ser.readline().split()[-1])\n",
    "    print(t)\n",
    "    return t\n",
    "\n",
    "def hist(t, bin_width, nbins):\n",
    "    \n",
    "    global SPAD_CH, TRIG_CH, tagger\n",
    "\n",
    "    bin_width*=1e12\n",
    "    t*=1e12 #every time data converted to ps\n",
    "    hist = Histogram(tagger, SPAD_CH, TRIG_CH, bin_width, nbins)\n",
    "    hist.startFor(t) #60e12 #in ps\n",
    "    while hist.isRunning():\n",
    "        continue\n",
    "    arr = np.array(hist.getData())\n",
    "        # tt.getOverflowsAndClear()   \n",
    "    clear_output(wait=True)     \n",
    "    plt.plot(range(len(arr)),arr)\n",
    "    plt.show()\n",
    "    x =  arr.argmax()*bin_width\n",
    "\n",
    "    return x # returns x in picosecond"
   ]
  },
  {
   "cell_type": "code",
   "execution_count": 6,
   "metadata": {},
   "outputs": [
    {
     "name": "stdout",
     "output_type": "stream",
     "text": [
      "b'Current positions are updated to 0.\\r\\n'\n",
      "b'Negative direction for Y-axis.\\r\\n'\n"
     ]
    },
    {
     "ename": "AttributeError",
     "evalue": "'numpy.ndarray' object has no attribute 'append'",
     "output_type": "error",
     "traceback": [
      "\u001b[1;31m---------------------------------------------------------------------------\u001b[0m",
      "\u001b[1;31mAttributeError\u001b[0m                            Traceback (most recent call last)",
      "Cell \u001b[1;32mIn[6], line 11\u001b[0m\n\u001b[0;32m      9\u001b[0m y_step(total_distance,stepper_speed)\n\u001b[0;32m     10\u001b[0m \u001b[39mfor\u001b[39;00m i \u001b[39min\u001b[39;00m \u001b[39mrange\u001b[39m(n_acq):\n\u001b[1;32m---> 11\u001b[0m     time_delay\u001b[39m.\u001b[39;49mappend(hist(t_acq,bin_width,nbins))\n\u001b[0;32m     12\u001b[0m     \u001b[39mif\u001b[39;00m i\u001b[39m%\u001b[39m\u001b[39m100\u001b[39m\u001b[39m==\u001b[39m\u001b[39m0\u001b[39m:\n\u001b[0;32m     13\u001b[0m         \u001b[39mprint\u001b[39m(i)\n",
      "\u001b[1;31mAttributeError\u001b[0m: 'numpy.ndarray' object has no attribute 'append'"
     ]
    }
   ],
   "source": [
    "home_set()\n",
    "\n",
    "\n",
    "time_array = np.arange(delay,delay*n_acq + delay,delay)\n",
    "time_delay = []\n",
    "\n",
    "start_time = time.time()\n",
    "# time.time() --> has a ~millisecond resolution\n",
    "y_step(total_distance,stepper_speed)\n",
    "for i in range(n_acq):\n",
    "    time_delay.append(hist(t_acq,bin_width,nbins))\n",
    "    if i%100==0:\n",
    "        print(i)\n",
    "\n",
    "    while time.time()<=start_time + time_array[i]:\n",
    "        continue\n",
    "\n",
    "time_delay = np.array(time_delay)\n",
    "plt.plot(time_delay*1e-12*c)\n",
    "plt.show()\n",
    "home_step()"
   ]
  },
  {
   "cell_type": "markdown",
   "metadata": {},
   "source": [
    "\n",
    "step_size2 = 100 #take 100 steps every turn for niter iterations #100/6400 ~ \n",
    "niter = nsteps/step_size2\n",
    "#pseudo\n",
    "for i in range(niter):\n",
    "    #take a step right_step(step_size2, stepper_speed)\n",
    "    # retrieve location\n",
    "    # if location is what we expect\n",
    "    # take and save histogram\n",
    "    # repeat"
   ]
  },
  {
   "cell_type": "code",
   "execution_count": null,
   "metadata": {},
   "outputs": [
    {
     "ename": "AttributeError",
     "evalue": "module 'datetime' has no attribute 'now'",
     "output_type": "error",
     "traceback": [
      "\u001b[1;31m---------------------------------------------------------------------------\u001b[0m",
      "\u001b[1;31mAttributeError\u001b[0m                            Traceback (most recent call last)",
      "Cell \u001b[1;32mIn[7], line 1\u001b[0m\n\u001b[1;32m----> 1\u001b[0m np\u001b[39m.\u001b[39msavetxt(\u001b[39mf\u001b[39m\u001b[39m'\u001b[39m\u001b[39mC:/Users/krish/Desktop/\u001b[39m\u001b[39m{\u001b[39;00mdatetime\u001b[39m.\u001b[39;49mnow()\u001b[39m}\u001b[39;00m\u001b[39m_\u001b[39m\u001b[39m{\u001b[39;00mstepper_speed\u001b[39m*\u001b[39mdelay\u001b[39m}\u001b[39;00m\u001b[39mhres_\u001b[39m\u001b[39m{\u001b[39;00mnp\u001b[39m.\u001b[39mround(bin_width\u001b[39m*\u001b[39mc,\u001b[39m2\u001b[39m)\u001b[39m}\u001b[39;00m\u001b[39mdres.txt\u001b[39m\u001b[39m'\u001b[39m,time_delay)\n",
      "\u001b[1;31mAttributeError\u001b[0m: module 'datetime' has no attribute 'now'"
     ]
    }
   ],
   "source": [
    "np.savetxt(f'C:/Users/krish/Desktop/{datetime.now()}_{stepper_speed*delay}hres_{np.round(bin_width*c,2)}dres.txt',time_delay)"
   ]
  },
  {
   "cell_type": "code",
   "execution_count": null,
   "metadata": {},
   "outputs": [],
   "source": [
    "#what we can try: \n",
    "\n",
    "# keep moving it slowly but continuously\n",
    "\n",
    "#for time in time_array:\n",
    "# if time.time() > start_time + time:\n",
    "# time_delay.append(hist(t_acq,bin_width,nbins)) \n",
    "\n",
    "#moving slowly: no more problem of effects from acceleration, deceleration\n",
    "\n",
    "#some other testsb: figure out how well actual speed matches to input speed.\n",
    "\n",
    "\n",
    "#scan at resolution: 1 every 0.5 seconds, with speed being 64 steps/second -> resolution of 32/6400 * 1cm = very good"
   ]
  }
 ],
 "metadata": {
  "kernelspec": {
   "display_name": "Python 3",
   "language": "python",
   "name": "python3"
  },
  "language_info": {
   "codemirror_mode": {
    "name": "ipython",
    "version": 3
   },
   "file_extension": ".py",
   "mimetype": "text/x-python",
   "name": "python",
   "nbconvert_exporter": "python",
   "pygments_lexer": "ipython3",
   "version": "3.11.4"
  },
  "orig_nbformat": 4
 },
 "nbformat": 4,
 "nbformat_minor": 2
}
