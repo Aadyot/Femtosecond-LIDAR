{
 "cells": [
  {
   "cell_type": "code",
   "execution_count": 1,
   "metadata": {},
   "outputs": [],
   "source": [
    "import numpy as np\n",
    "from TimeTagger import *\n",
    "import matplotlib.pyplot as plt\n",
    "from IPython.display import clear_output\n",
    "import serial\n",
    "import time\n",
    "import datetime"
   ]
  },
  {
   "cell_type": "code",
   "execution_count": 2,
   "metadata": {},
   "outputs": [
    {
     "name": "stdout",
     "output_type": "stream",
     "text": [
      "b'Demonstration of AccelStepper Library\\r\\n'\n",
      "b\"Send 'C' for printing the commands.\\r\\n\"\n",
      "b'Default speed: 400 steps/s, default acceleration: 800 steps/s^2.\\r\\n'\n"
     ]
    }
   ],
   "source": [
    "# Establish the serial connection\n",
    "ser = serial.Serial('COM8', 9600)  # Replace 'COM3' with your Arduino's port\n",
    "tagger = createTimeTagger()\n",
    "\n",
    "print(ser.readline())\n",
    "print(ser.readline())\n",
    "print(ser.readline())"
   ]
  },
  {
   "cell_type": "code",
   "execution_count": 2,
   "metadata": {},
   "outputs": [
    {
     "ename": "NameError",
     "evalue": "name 'np' is not defined",
     "output_type": "error",
     "traceback": [
      "\u001b[1;31m---------------------------------------------------------------------------\u001b[0m",
      "\u001b[1;31mNameError\u001b[0m                                 Traceback (most recent call last)",
      "Cell \u001b[1;32mIn[2], line 2\u001b[0m\n\u001b[0;32m      1\u001b[0m \u001b[39mwith\u001b[39;00m \u001b[39mopen\u001b[39m(\u001b[39m'\u001b[39m\u001b[39mZ:/YRF/Experiments/Imaging/Noise_testing/details.txt\u001b[39m\u001b[39m'\u001b[39m, \u001b[39m'\u001b[39m\u001b[39mw\u001b[39m\u001b[39m'\u001b[39m) \u001b[39mas\u001b[39;00m f:\n\u001b[1;32m----> 2\u001b[0m     \u001b[39mprint\u001b[39m(\u001b[39mf\u001b[39m\u001b[39m'\u001b[39m\u001b[39mDepth resolution: \u001b[39m\u001b[39m{\u001b[39;00mnp\u001b[39m.\u001b[39mround(bin_width\u001b[39m*\u001b[39mc,\u001b[39m2\u001b[39m)\u001b[39m}\u001b[39;00m\u001b[39m cm\u001b[39m\u001b[39m'\u001b[39m)\n\u001b[0;32m      3\u001b[0m     \u001b[39mprint\u001b[39m(\u001b[39mf\u001b[39m\u001b[39m'\u001b[39m\u001b[39mHorizontal resolution: \u001b[39m\u001b[39m{\u001b[39;00mstepper_speed\u001b[39m*\u001b[39mdelay\u001b[39m}\u001b[39;00m\u001b[39m cm\u001b[39m\u001b[39m'\u001b[39m)\n\u001b[0;32m      4\u001b[0m     \u001b[39mprint\u001b[39m(\u001b[39mf\u001b[39m\u001b[39m'\u001b[39m\u001b[39mdist_in_cm: \u001b[39m\u001b[39m{\u001b[39;00mtotal_distance\u001b[39m}\u001b[39;00m\u001b[39m cm\u001b[39m\u001b[39m'\u001b[39m)\n",
      "\u001b[1;31mNameError\u001b[0m: name 'np' is not defined"
     ]
    }
   ],
   "source": [
    "with open('Z:/YRF/Experiments/Imaging/Noise_testing/details.txt', 'w') as f:\n",
    "    print(f'Depth resolution: {np.round(bin_width*c,2)} cm')\n",
    "    print(f'Horizontal resolution: {stepper_speed*delay} cm')\n",
    "    print(f'dist_in_cm: {total_distance} cm')\n",
    "    print(f'number of acq: {n_acq} steps')\n",
    "    print(f't_acq: {t_acq} seconds')\n",
    "\n",
    "# np.savetxt(f'Z:/YRF/Experiments/Imaging/Noise_testing/{str(datetime.datetime.now()).replace(\" \",\"_\").replace(\":\",\"_\")}_{delay}sec_{np.round(bin_width*c,2)}dres.txt',time_delay)"
   ]
  },
  {
   "cell_type": "code",
   "execution_count": 5,
   "metadata": {},
   "outputs": [],
   "source": [
    "\n",
    "#Directions are given from the perspective facing HOLMARC sign in FSLab\n",
    "def send_command(command):\n",
    "    ser.write(command.encode())\n",
    "\n",
    "def right_step(dist,speed):\n",
    "    send_command(f'R{dist} {speed}')\n",
    "    print(ser.readline())\n",
    "\n",
    "def left_step(dist,speed):\n",
    "    send_command(f'E{dist} {speed}')\n",
    "    print(ser.readline())\n",
    "\n",
    "def x_step(dist, speed):\n",
    "    dist*=6400\n",
    "    speed*=6400\n",
    "    if xdirection == 0:\n",
    "        left_step(dist,speed)\n",
    "    elif xdirection == 1:\n",
    "        right_step(dist,speed)\n",
    "    else:\n",
    "        exit()    \n",
    "\n",
    "def y_step(dist, speed):\n",
    "    dist*=6400\n",
    "    speed*=6400\n",
    "    if ydirection == 0:\n",
    "        up_step(dist,speed)\n",
    "    elif ydirection == 1:\n",
    "        down_step(dist,speed)\n",
    "    else:\n",
    "        exit()\n",
    "\n",
    "def home_set():\n",
    "    send_command('X')\n",
    "    print(ser.readline())\n",
    "\n",
    "\n",
    "def down_step(dist,speed):\n",
    "    send_command(f'D{dist} {speed}')\n",
    "    print(ser.readline())\n",
    "\n",
    "\n",
    "def up_step(dist,speed):\n",
    "    send_command(f'U{dist} {speed}')\n",
    "    print(ser.readline())\n",
    "\n",
    "\n",
    "def home_step():\n",
    "    send_command('H')  \n",
    "    print(ser.readline())\n",
    "    print(ser.readline())\n",
    "    print(ser.readline())\n",
    "\n",
    "def getlocation():\n",
    "    send_command('L')\n",
    "    t =  int(ser.readline().split()[-1]), int(ser.readline().split()[-1])\n",
    "    print(t)\n",
    "    return t\n",
    "\n",
    "def hist(t, bin_width, nbins):\n",
    "    \n",
    "    global SPAD_CH, TRIG_CH, tagger\n",
    "    # print('a0) ',time.time())\n",
    "    bin_width*=1e12\n",
    "    t*=1e12 #every time data converted to ps\n",
    "    hist = Histogram(tagger, SPAD_CH, TRIG_CH, bin_width, nbins)\n",
    "    hist.startFor(t) #60e12 #in ps\n",
    "    while hist.isRunning():\n",
    "        continue\n",
    "    # print('b) ',time.time())    \n",
    "    arr = np.array(hist.getData())\n",
    "    return arr # returns x in picosecond"
   ]
  },
  {
   "cell_type": "code",
   "execution_count": 6,
   "metadata": {},
   "outputs": [
    {
     "name": "stdout",
     "output_type": "stream",
     "text": [
      "b'Current positions are updated to 0.\\r\\n'\n",
      "b'Negative direction for X-axis.\\r\\n'\n",
      "b'Homing X and Y axes.\\r\\n'\n",
      "b'X-axis is goimg to the home position.\\r\\n'\n",
      "b'Y-axis is at the home position.\\r\\n'\n"
     ]
    }
   ],
   "source": [
    "home_set()\n",
    "\n",
    "time_array = np.arange(delay,delay*n_acq + delay,delay)\n",
    "time_delay = []\n",
    "\n",
    "start_time = time.time()\n",
    "\n",
    "n_acq_point = 2\n",
    "t_acq = 1e-2\n",
    "\n",
    "# time.time() --> has a ~millisecond resolution\n",
    "x_step(total_distance,stepper_speed)\n",
    "for i in range(n_acq):\n",
    "    for j in range(n_acq_point):\n",
    "        time_delay.append(hist(t_acq,bin_width,nbins))\n",
    "    while time.time()<=start_time + time_array[i]:\n",
    "        continue\n",
    "time_delay = np.array(time_delay)\n",
    "#plt.plot(time_delay*1e-12*c)\n",
    "#plt.show()\n",
    "home_step()\n",
    "\n",
    "\n",
    "# bad way to do it because it doesn't figure out the step properly."
   ]
  },
  {
   "cell_type": "markdown",
   "metadata": {},
   "source": [
    "time_delay = []\n",
    "n_acq = 10\n",
    "t_acq = 1e-3\n",
    "for i in range(n_acq):\n",
    "    acq = hist(t_acq,bin_width,nbins)\n",
    "    time_delay.append(acq)\n",
    "time_delay = np.array(time_delay)"
   ]
  },
  {
   "cell_type": "code",
   "execution_count": 3,
   "metadata": {},
   "outputs": [
    {
     "ename": "NameError",
     "evalue": "name 'np' is not defined",
     "output_type": "error",
     "traceback": [
      "\u001b[1;31m---------------------------------------------------------------------------\u001b[0m",
      "\u001b[1;31mNameError\u001b[0m                                 Traceback (most recent call last)",
      "Cell \u001b[1;32mIn[3], line 1\u001b[0m\n\u001b[1;32m----> 1\u001b[0m np\u001b[39m.\u001b[39msavetxt(\u001b[39mf\u001b[39m\u001b[39m'\u001b[39m\u001b[39mZ:/YRF/Experiments/Imaging/Feb_10/\u001b[39m\u001b[39m{\u001b[39;00m\u001b[39mstr\u001b[39m(datetime\u001b[39m.\u001b[39mdatetime\u001b[39m.\u001b[39mnow())\u001b[39m.\u001b[39mreplace(\u001b[39m\"\u001b[39m\u001b[39m \u001b[39m\u001b[39m\"\u001b[39m,\u001b[39m\"\u001b[39m\u001b[39m_\u001b[39m\u001b[39m\"\u001b[39m)\u001b[39m.\u001b[39mreplace(\u001b[39m\"\u001b[39m\u001b[39m:\u001b[39m\u001b[39m\"\u001b[39m,\u001b[39m\"\u001b[39m\u001b[39m_\u001b[39m\u001b[39m\"\u001b[39m)\u001b[39m}\u001b[39;00m\u001b[39m_\u001b[39m\u001b[39m{\u001b[39;00mdelay\u001b[39m}\u001b[39;00m\u001b[39msec_\u001b[39m\u001b[39m{\u001b[39;00mnp\u001b[39m.\u001b[39mround(bin_width\u001b[39m*\u001b[39mc,\u001b[39m2\u001b[39m)\u001b[39m}\u001b[39;00m\u001b[39mdres.txt\u001b[39m\u001b[39m'\u001b[39m,time_delay)\n",
      "\u001b[1;31mNameError\u001b[0m: name 'np' is not defined"
     ]
    }
   ],
   "source": [
    "np.savetxt(f'Z:/YRF/Experiments/Imaging/Noise_testing/{power}mW_{t_acq}s_.txt',time_delay)\n",
    "# np.savetxt(f'Z:/YRF/Experiments/Imaging/Noise_testing/{str(datetime.datetime.now()).replace(\" \",\"_\").replace(\":\",\"_\")}_{delay}sec_{np.round(bin_width*c,2)}dres.txt',time_delay)"
   ]
  },
  {
   "cell_type": "code",
   "execution_count": 1,
   "metadata": {},
   "outputs": [
    {
     "ename": "SyntaxError",
     "evalue": "invalid syntax. Perhaps you forgot a comma? (3394483786.py, line 1)",
     "output_type": "error",
     "traceback": [
      "\u001b[1;36m  Cell \u001b[1;32mIn[1], line 1\u001b[1;36m\u001b[0m\n\u001b[1;33m    np.savetxt(f'Z:/YRF/Experiments/Imaging/Noise_testing/details.txt',print(f'Depth resolution: {np.round(bin_width*c,2)} cm')\u001b[0m\n\u001b[1;37m                                                                       ^\u001b[0m\n\u001b[1;31mSyntaxError\u001b[0m\u001b[1;31m:\u001b[0m invalid syntax. Perhaps you forgot a comma?\n"
     ]
    }
   ],
   "source": [
    "np.savetxt(f'Z:/YRF/Experiments/Imaging/Noise_testing/details.txt', details)\n",
    "\n",
    "details = "
   ]
  },
  {
   "cell_type": "code",
   "execution_count": null,
   "metadata": {},
   "outputs": [],
   "source": []
  }
 ],
 "metadata": {
  "kernelspec": {
   "display_name": "Python 3",
   "language": "python",
   "name": "python3"
  },
  "language_info": {
   "codemirror_mode": {
    "name": "ipython",
    "version": 3
   },
   "file_extension": ".py",
   "mimetype": "text/x-python",
   "name": "python",
   "nbconvert_exporter": "python",
   "pygments_lexer": "ipython3",
   "version": "3.11.4"
  },
  "orig_nbformat": 4
 },
 "nbformat": 4,
 "nbformat_minor": 2
}
