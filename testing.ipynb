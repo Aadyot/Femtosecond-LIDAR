{
 "cells": [
  {
   "cell_type": "code",
   "execution_count": 1,
   "metadata": {},
   "outputs": [],
   "source": [
    "import numpy as np\n",
    "from TimeTagger import *\n",
    "import time\n",
    "import datetime\n",
    "import os"
   ]
  },
  {
   "cell_type": "code",
   "execution_count": 2,
   "metadata": {},
   "outputs": [],
   "source": [
    "tagger = createTimeTagger()"
   ]
  },
  {
   "cell_type": "code",
   "execution_count": 3,
   "metadata": {},
   "outputs": [],
   "source": [
    "SPAD_CH = 1 # SPAD Channel\n",
    "TRIG_CH = 3 # Trigger Channel\n",
    "\n",
    "# introduce delay in trig channel\n",
    "delay = 1.04e6 # in picosecond\n",
    "tagger.setInputDelay(3,delay)\n",
    "\n",
    "bin_width = 10e-12 # in seconds, check once\n",
    "c = 3*1e10 #cm\n",
    "t_acq = 1\n",
    "n_repeat = 100 #do it for 100 different times to get error estimate\n",
    "nbins = int(50e-9/bin_width) #2 microsecond of time data\n",
    "rep_rate = 2#1kHz\n",
    "laser_power = np.round(40 * rep_rate,3) #mW\n",
    "\n",
    "param = 'binwidth'\n",
    "path = f\"Z:/YRF/Experiments/Imaging/3_march/TTL/{param}/3kHz\"\n",
    "# os.mkdir(path+f\"/{int(bin_width*1e12)}\")\n",
    "\n",
    "avg_noise_count = 200\n",
    "# important params: t_acq, bin_width, laser_power"
   ]
  },
  {
   "cell_type": "code",
   "execution_count": 4,
   "metadata": {},
   "outputs": [],
   "source": [
    "with open(f'Z:/YRF/Experiments/Imaging/3_march/TTL/{param}/3kHz/details.txt', 'w') as f:\n",
    "    print(f't_acq: {t_acq} seconds', file=f)\n",
    "    print(f'rep rate = {rep_rate*1e3}kHz', file=f)\n",
    "    print(f'laser power = {laser_power}mW', file=f)\n",
    "    # print(f'bin width = {bin_width*1e12}ps', file=f)\n",
    "    print(f'avg noise count = {avg_noise_count} per second', file=f)\n",
    "\n",
    "# np.savetxt(f'Z:/YRF/Experiments/Imaging/Noise_testing/{str(datetime.datetime.now()).replace(\" \",\"_\").replace(\":\",\"_\")}_{delay}sec_{np.round(bin_width*c,2)}dres.txt',time_delay)"
   ]
  },
  {
   "cell_type": "code",
   "execution_count": 5,
   "metadata": {},
   "outputs": [],
   "source": [
    "def hist(t, bin_width, nbins):\n",
    "    \n",
    "    global SPAD_CH, TRIG_CH, tagger\n",
    "    # print('a0) ',time.time())\n",
    "    bin_width*=1e12\n",
    "    t*=1e12 #every time data converted to ps\n",
    "    hist = Histogram(tagger, SPAD_CH, TRIG_CH, bin_width, nbins)\n",
    "    hist.startFor(t) #60e12 #in ps\n",
    "    while hist.isRunning():\n",
    "        continue\n",
    "    # print('b) ',time.time())    \n",
    "    arr = np.array(hist.getData())\n",
    "    return arr # returns x in picosecond"
   ]
  },
  {
   "cell_type": "code",
   "execution_count": 6,
   "metadata": {},
   "outputs": [],
   "source": [
    "bin_widths = [1e-12,10e-12,34e-12,50e-12,100e-12]\n",
    "\n",
    "\n",
    "for bin_width_val in bin_widths:\n",
    "    nbins = int(50e-9/bin_width_val) #2 microsecond of time data\n",
    "\n",
    "    time_delay = []\n",
    "\n",
    "    for i in range(n_repeat):\n",
    "        time_delay.append(hist(t_acq,bin_width_val,nbins))\n",
    "\n",
    "    time_delay = np.array(time_delay)\n",
    "    param = 'binwidth'\n",
    "    path = f\"Z:/YRF/Experiments/Imaging/3_march/TTL/{param}/3kHz\"\n",
    "    os.mkdir(path+f\"/{int(bin_width_val*1e12)}\")\n",
    "    np.savetxt(f'Z:/YRF/Experiments/Imaging/3_march/TTL/{param}/3kHz/{int(bin_width_val*1e12)}/{t_acq}s.txt',time_delay)"
   ]
  },
  {
   "cell_type": "code",
   "execution_count": 7,
   "metadata": {},
   "outputs": [
    {
     "data": {
      "text/plain": [
       "[<matplotlib.lines.Line2D at 0x1a1ca4f8cd0>]"
      ]
     },
     "execution_count": 7,
     "metadata": {},
     "output_type": "execute_result"
    },
    {
     "data": {
      "image/png": "[encoded data removed]",
      "text/plain": [
       "<Figure size 640x480 with 1 Axes>"
      ]
     },
     "metadata": {},
     "output_type": "display_data"
    }
   ],
   "source": [
    "import matplotlib.pyplot as plt\n",
    "\n",
    "plt.plot(time_delay[1])"
   ]
  },
  {
   "cell_type": "markdown",
   "metadata": {},
   "source": [
    "time_delay = []\n",
    "n_acq = 10\n",
    "t_acq = 1e-3\n",
    "for i in range(n_acq):\n",
    "    acq = hist(t_acq,bin_width,nbins)\n",
    "    time_delay.append(acq)\n",
    "time_delay = np.array(time_delay)"
   ]
  }
 ],
 "metadata": {
  "kernelspec": {
   "display_name": "Python 3",
   "language": "python",
   "name": "python3"
  },
  "language_info": {
   "codemirror_mode": {
    "name": "ipython",
    "version": 3
   },
   "file_extension": ".py",
   "mimetype": "text/x-python",
   "name": "python",
   "nbconvert_exporter": "python",
   "pygments_lexer": "ipython3",
   "version": "3.11.4"
  },
  "orig_nbformat": 4
 },
 "nbformat": 4,
 "nbformat_minor": 2
}
