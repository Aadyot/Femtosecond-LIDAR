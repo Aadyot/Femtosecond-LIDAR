{
 "cells": [
  {
   "cell_type": "code",
   "execution_count": 1,
   "metadata": {},
   "outputs": [],
   "source": [
    "import numpy as np\n",
    "from TimeTagger import *\n",
    "import matplotlib.pyplot as plt\n",
    "from IPython.display import clear_output\n",
    "import serial\n",
    "import time"
   ]
  },
  {
   "cell_type": "code",
   "execution_count": 2,
   "metadata": {},
   "outputs": [
    {
     "name": "stdout",
     "output_type": "stream",
     "text": [
      "b'Demonstration of AccelStepper Library\\r\\n'\n",
      "b\"Send 'C' for printing the commands.\\r\\n\"\n",
      "b'Default speed: 400 steps/s, default acceleration: 800 steps/s^2.\\r\\n'\n"
     ]
    }
   ],
   "source": [
    "# Establish the serial connection\n",
    "ser = serial.Serial('COM8', 9600)  # Replace 'COM3' with your Arduino's port\n",
    "tagger = createTimeTagger()\n",
    "\n",
    "print(ser.readline())\n",
    "print(ser.readline())\n",
    "print(ser.readline())"
   ]
  },
  {
   "cell_type": "code",
   "execution_count": 3,
   "metadata": {},
   "outputs": [],
   "source": [
    "SPAD_CH = 1 # SPAD Channel\n",
    "TRIG_CH = 3 # Trigger Channel\n",
    "\n",
    "bin_width = 34 # in picoseconds, check once\n",
    "nbins = 6e4  #with the knowledge that delay will be in ns, we can acquire 1us worth of temporal data, ie 1us/ 100ps = 1e4 bins. \n",
    "#1ns = 30cm spatially so even 1e3 bins should do\n",
    "\n",
    "npulse = 100 #100 pulses at every position\n",
    "trigfreq = 10*1e3 # trigger frequency, 10kHz (can't go higher as of now)\n",
    "\n",
    "mini_step_size = 1/6400 #least count in cm/step\n",
    "resolution = 0.01 #cm\n",
    "step_size = resolution/mini_step_size\n",
    "\n",
    "stepper_speed = step_size*trigfreq/npulse\n",
    "# if I want 100 pulses to hit every point, them stepper motor must make 100 moves every second for given trigger frequency \n",
    "# stepper_speed = trigfreq//npulse #steps/second, resolution can be set as we want\n",
    "\n",
    "#to move 2cm, stepper motor will need 2*6400 steps. at this speed, it will move for 2*64 = 128 seconds lmao\n",
    "# works ig\n",
    "direction = \"left\"\n",
    "\n",
    "\n",
    "dist_in_cm = 2\n",
    "nsteps = int(dist_in_cm/resolution)\n",
    "t_acq = step_size/stepper_speed"
   ]
  },
  {
   "cell_type": "code",
   "execution_count": 4,
   "metadata": {},
   "outputs": [
    {
     "name": "stdout",
     "output_type": "stream",
     "text": [
      "SPAD_CH: 1\n",
      "TRIG_CH: 3\n",
      "bin_width: 34 picoseconds\n",
      "nbins: 60000.0\n",
      "npulse: 100\n",
      "trigfreq: 10000.0 Hz\n",
      "stepper_speed: 6400.0 steps/second\n",
      "step_size: 64.0 cm/step\n",
      "dist_in_cm: 2 cm\n",
      "nsteps: 200 steps\n",
      "t_acq: 0.01 seconds\n"
     ]
    }
   ],
   "source": [
    "print(f'SPAD_CH: {SPAD_CH}')\n",
    "print(f'TRIG_CH: {TRIG_CH}')\n",
    "print(f'bin_width: {bin_width} picoseconds')\n",
    "print(f'nbins: {nbins}')\n",
    "print(f'npulse: {npulse}')\n",
    "print(f'trigfreq: {trigfreq} Hz')\n",
    "print(f'stepper_speed: {stepper_speed} steps/second')\n",
    "print(f'step_size: {step_size} cm/step')\n",
    "print(f'dist_in_cm: {dist_in_cm} cm')\n",
    "print(f'nsteps: {nsteps} steps')\n",
    "print(f't_acq: {t_acq} seconds')"
   ]
  },
  {
   "cell_type": "code",
   "execution_count": 5,
   "metadata": {},
   "outputs": [],
   "source": [
    "\n",
    "#Directions are given from the perspective facing HOLMARC sign in FSLab\n",
    "def send_command(command):\n",
    "    ser.write(command.encode())\n",
    "\n",
    "def right_step(dist,speed):\n",
    "    send_command(f'R{dist} {speed}')\n",
    "    print(ser.readline())\n",
    "\n",
    "def left_step(dist,speed):\n",
    "    send_command(f'E{dist} {speed}')\n",
    "    print(ser.readline())\n",
    "\n",
    "def y_step(dist, speed):\n",
    "    if direction.lower() == \"left\":\n",
    "        left_step(dist,speed)\n",
    "    elif direction.lower() == \"right\":\n",
    "        right_step(dist,speed)\n",
    "    else:\n",
    "        exit()\n",
    "\n",
    "\n",
    "def home_set():\n",
    "    send_command('X')\n",
    "    print(ser.readline())\n",
    "\n",
    "\n",
    "def down_step(dist,speed):\n",
    "    send_command(f'D{dist} {speed}')\n",
    "    print(ser.readline())\n",
    "\n",
    "\n",
    "def up_step(dist,speed):\n",
    "    send_command(f'U{dist} {speed}')\n",
    "    print(ser.readline())\n",
    "\n",
    "\n",
    "def home_step():\n",
    "    send_command('H')  \n",
    "    print(ser.readline())\n",
    "    print(ser.readline())\n",
    "    print(ser.readline())\n",
    "\n",
    "def getlocation():\n",
    "    send_command('L')\n",
    "    t =  int(ser.readline().split()[-1]), int(ser.readline().split()[-1])\n",
    "    print(t)\n",
    "    return t\n",
    "\n",
    "def hist(t, bin_width, nbins):\n",
    "    \n",
    "    global SPAD_CH, TRIG_CH, tagger\n",
    "\n",
    "    hist = Histogram(tagger, SPAD_CH, TRIG_CH, bin_width, nbins)\n",
    "    hist.startFor(t*1e12) #60e12 #in ps\n",
    "    while hist.isRunning():\n",
    "        continue\n",
    "    arr = np.array(hist.getData())\n",
    "        # tt.getOverflowsAndClear()   \n",
    "    clear_output(wait=True)     \n",
    "    plt.plot(range(len(arr)),arr)\n",
    "    plt.show()\n",
    "    x =  arr.argmax()*bin_width\n",
    "\n",
    "    return x"
   ]
  },
  {
   "cell_type": "code",
   "execution_count": 6,
   "metadata": {},
   "outputs": [
    {
     "data": {
      "image/png": "[encoded data removed]",
      "text/plain": [
       "<Figure size 640x480 with 1 Axes>"
      ]
     },
     "metadata": {},
     "output_type": "display_data"
    },
    {
     "name": "stdout",
     "output_type": "stream",
     "text": [
      "b'Negative direction for Y-axis.\\r\\n'\n",
      "(0, -12747)\n",
      "(0, -12788)\n",
      "(0, -12800)\n",
      "(0, -12800)\n"
     ]
    },
    {
     "data": {
      "image/png": "[encoded data removed]",
      "text/plain": [
       "<Figure size 640x480 with 1 Axes>"
      ]
     },
     "metadata": {},
     "output_type": "display_data"
    }
   ],
   "source": [
    "home_set()\n",
    "# left_step(1600,100)\n",
    "# print(getlocation())\n",
    "# time.sleep(2)\n",
    "# print(getlocation())\n",
    "\n",
    "\n",
    "# left_step(nsteps*step_size,stepper_speed)\n",
    "\n",
    "loc = getlocation()[1]\n",
    "\n",
    "time_delay = []\n",
    "for i in range(nsteps):\n",
    "    \n",
    "    time_delay.append(hist(t_acq,bin_width,nbins))\n",
    "    if i%100==0:\n",
    "        print(i)\n",
    "\n",
    "    y_step(step_size,stepper_speed)\n",
    "    while abs(getlocation()[1]-loc) < step_size:\n",
    "        continue\n",
    "    loc = getlocation()[1]\n",
    "plt.plot(time_delay)\n",
    "plt.show()\n",
    "#home_step()"
   ]
  },
  {
   "cell_type": "markdown",
   "metadata": {},
   "source": [
    "\n",
    "step_size2 = 100 #take 100 steps every turn for niter iterations #100/6400 ~ \n",
    "niter = nsteps/step_size2\n",
    "#pseudo\n",
    "for i in range(niter):\n",
    "    #take a step right_step(step_size2, stepper_speed)\n",
    "    # retrieve location\n",
    "    # if location is what we expect\n",
    "    # take and save histogram\n",
    "    # repeat"
   ]
  },
  {
   "cell_type": "code",
   "execution_count": 7,
   "metadata": {},
   "outputs": [
    {
     "name": "stdout",
     "output_type": "stream",
     "text": [
      "b'Homing X and Y axes.\\r\\n'\n",
      "b'X-axis is at the home position.\\r\\n'\n",
      "b'Y-axis is goimg to the home position.\\r\\n'\n"
     ]
    }
   ],
   "source": [
    "home_step()"
   ]
  },
  {
   "cell_type": "code",
   "execution_count": 8,
   "metadata": {},
   "outputs": [],
   "source": [
    "np.savetxt('C:/Users/krish/Desktop/9jan2024_2cm_0.01res_34ps.txt',time_delay)"
   ]
  },
  {
   "cell_type": "code",
   "execution_count": 9,
   "metadata": {},
   "outputs": [],
   "source": [
    "#plt.plot(time_delay[0:50]+list(np.zeros(75)+1.06888e6)+time_delay[125:])"
   ]
  },
  {
   "cell_type": "markdown",
   "metadata": {},
   "source": [
    "time_delay = np.array(time_delay)\n",
    "\n",
    "time_delay = time_delay[time_delay>1.05e6]"
   ]
  },
  {
   "cell_type": "markdown",
   "metadata": {},
   "source": [
    "plt.plot(time_delay)"
   ]
  },
  {
   "cell_type": "markdown",
   "metadata": {},
   "source": [
    "np.savetxt('C:/Users/krish/Desktop/9jan2024_2cm_0.01res_34ps_cleaned.txt',time_delay)"
   ]
  },
  {
   "cell_type": "code",
   "execution_count": null,
   "metadata": {},
   "outputs": [],
   "source": [
    "#what we can try: \n",
    "\n",
    "# keep moving it slowly but continuously\n",
    "\n",
    "#for time in time_array:\n",
    "# if time.time() > start_time + time:\n",
    "# time_delay.append(hist(t_acq,bin_width,nbins)) \n",
    "\n",
    "#moving slowly: no more problem of effects from acceleration, deceleration\n",
    "\n",
    "#some other tests: figure out how well actual speed matches to input speed.\n",
    "\n",
    "\n",
    "#scan at resolution: 1 every 0.5 seconds, with speed being 64 steps/second -> resolution of 32/6400 * 1cm = very good"
   ]
  },
  {
   "cell_type": "code",
   "execution_count": null,
   "metadata": {},
   "outputs": [],
   "source": [
    "home_set()\n",
    "\n",
    "time_array = \n",
    "\n",
    "time_delay = []\n",
    "for time in range(time_array):\n",
    "    \n",
    "    time_delay.append(hist(t_acq,bin_width,nbins))\n",
    "    if i%100==0:\n",
    "        print(i)\n",
    "\n",
    "\n",
    "plt.plot(time_delay)\n",
    "plt.show()\n",
    "#home_step()\n"
   ]
  }
 ],
 "metadata": {
  "kernelspec": {
   "display_name": "Python 3",
   "language": "python",
   "name": "python3"
  },
  "language_info": {
   "codemirror_mode": {
    "name": "ipython",
    "version": 3
   },
   "file_extension": ".py",
   "mimetype": "text/x-python",
   "name": "python",
   "nbconvert_exporter": "python",
   "pygments_lexer": "ipython3",
   "version": "3.11.4"
  },
  "orig_nbformat": 4
 },
 "nbformat": 4,
 "nbformat_minor": 2
}
